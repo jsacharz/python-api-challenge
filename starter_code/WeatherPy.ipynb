{
 "cells": [
  {
   "cell_type": "markdown",
   "metadata": {},
   "source": [
    "# WeatherPy\n",
    "----\n",
    "\n",
    "#### Note\n",
    "* Instructions have been included for each segment. You do not have to follow them exactly, but they are included to help you think through the steps."
   ]
  },
  {
   "cell_type": "code",
   "execution_count": 3,
   "metadata": {
    "scrolled": true
   },
   "outputs": [
    {
     "name": "stdout",
     "output_type": "stream",
     "text": [
      "Requirement already satisfied: citipy in /Users/jsacharz/opt/anaconda3/lib/python3.9/site-packages (0.0.5)\r\n",
      "Requirement already satisfied: kdtree>=0.12 in /Users/jsacharz/opt/anaconda3/lib/python3.9/site-packages (from citipy) (0.16)\r\n"
     ]
    }
   ],
   "source": [
    "# Dependencies and Setup\n",
    "!pip install citipy\n",
    "import matplotlib.pyplot as plt\n",
    "import pandas as pd\n",
    "import numpy as np\n",
    "import requests\n",
    "import time\n",
    "import json\n",
    "from datetime import datetime\n",
    "from scipy.stats import linregress\n",
    "\n",
    "# Import API key\n",
    "from api_keys import weather_api_key\n",
    "\n",
    "# Incorporated citipy to determine city based on latitude and longitude\n",
    "from citipy import citipy\n",
    "\n",
    "# Output File (CSV)\n",
    "output_data_file = \"output_data/cities.csv\"\n",
    "\n",
    "# Range of latitudes and longitudes\n",
    "lat_range = (-90, 90)\n",
    "lng_range = (-180, 180)"
   ]
  },
  {
   "cell_type": "markdown",
   "metadata": {},
   "source": [
    "## Generate Cities List"
   ]
  },
  {
   "cell_type": "code",
   "execution_count": 4,
   "metadata": {
    "scrolled": true
   },
   "outputs": [
    {
     "name": "stdout",
     "output_type": "stream",
     "text": [
      "594\n"
     ]
    }
   ],
   "source": [
    "# List for holding lat_lngs and cities\n",
    "lat_lngs = []\n",
    "cities = []\n",
    "\n",
    "# Create a set of random lat and lng combinations\n",
    "lats = np.random.uniform(lat_range[0], lat_range[1], size=1500)\n",
    "lngs = np.random.uniform(lng_range[0], lng_range[1], size=1500)\n",
    "lat_lngs = zip(lats, lngs)\n",
    "\n",
    "# Identify nearest city for each lat, lng combination\n",
    "for lat_lng in lat_lngs:\n",
    "    city = citipy.nearest_city(lat_lng[0], lat_lng[1]).city_name\n",
    "    \n",
    "    # If the city is unique, then add it to a our cities list\n",
    "    if city not in cities:\n",
    "        cities.append(city)\n",
    "\n",
    "# Print the city count to confirm sufficient count\n",
    "print(len(cities))"
   ]
  },
  {
   "cell_type": "markdown",
   "metadata": {},
   "source": [
    "### Perform API Calls\n",
    "* Perform a weather check on each city using a series of successive API calls.\n",
    "* Include a print log of each city as it'sbeing processed (with the city number and city name).\n"
   ]
  },
  {
   "cell_type": "code",
   "execution_count": 5,
   "metadata": {},
   "outputs": [],
   "source": [
    "# #test the url with parameters if it work for London and inspect the stucture of retrived data:\n",
    "# url = (f\"https://api.openweathermap.org/data/2.5/weather?q={city}&units=metric&appid={weather_api_key}\")\n",
    "# city = \"London\"\n",
    "# response = requests.get(url).json()\n",
    "# # print(response)\n",
    "# print(json.dumps(response, indent=4, sort_keys=True))"
   ]
  },
  {
   "cell_type": "code",
   "execution_count": 6,
   "metadata": {
    "scrolled": true
   },
   "outputs": [
    {
     "name": "stdout",
     "output_type": "stream",
     "text": [
      "Processing Data: 0 city name: xining\n",
      "Processing Data: 1 city name: castro\n",
      "Processing Data: 2 city name: ust-kuyga\n",
      "Processing Data: 3 city name: cape town\n",
      "Processing Data: 4 city name: busselton\n",
      "Processing Data: 5 city name: vaini\n",
      "Processing Data: 6 city name: bara\n",
      "Processing Data: 7 city name: jamestown\n",
      "Processing Data: 8 city name: palafrugell\n",
      "Processing Data: 9 city name: ushuaia\n",
      "Processing Data: 10 city name: ulladulla\n",
      "Processing Data: 11 city name: kodiak\n",
      "Processing Data: 12 city name: tuktoyaktuk\n",
      "Processing Data: 13 city name: shimanovsk\n",
      "Processing Data: 14 city name: panzhihua\n",
      "Processing Data: 15 city name: yellowknife\n",
      "Processing Data: 16 city name: hermanus\n",
      "Processing Data: 17 city name: pingzhuang\n",
      "Processing Data: 18 city name: atuona\n",
      "Processing Data: 19 city name: jiblah\n",
      "Processing Data: 20 city name: havre\n",
      "Processing Data: 21 city name: bubaque\n",
      "Processing Data: 22 city name: bluff\n",
      "Processing Data: 23 city name: aubiere\n",
      "Processing Data: 24 city name: ulaangom\n",
      "City \"inderborskiy\" not found\n",
      "Processing Data: 26 city name: ondangwa\n",
      "Processing Data: 27 city name: kavieng\n",
      "Processing Data: 28 city name: saint-philippe\n",
      "Processing Data: 29 city name: carnarvon\n",
      "Processing Data: 30 city name: roma\n",
      "Processing Data: 31 city name: arraial do cabo\n",
      "Processing Data: 32 city name: sioux lookout\n",
      "Processing Data: 33 city name: mayskiy\n",
      "Processing Data: 34 city name: saint george\n",
      "Processing Data: 35 city name: hithadhoo\n",
      "Processing Data: 36 city name: ust-ishim\n",
      "City \"barentsburg\" not found\n",
      "Processing Data: 38 city name: coruripe\n",
      "Processing Data: 39 city name: bredasdorp\n",
      "Processing Data: 40 city name: mahebourg\n",
      "Processing Data: 41 city name: plettenberg bay\n",
      "Processing Data: 42 city name: rikitea\n",
      "Processing Data: 43 city name: hovd\n",
      "Processing Data: 44 city name: houma\n",
      "Processing Data: 45 city name: bokovskaya\n",
      "City \"belushya guba\" not found\n",
      "Processing Data: 47 city name: mataura\n",
      "Processing Data: 48 city name: guangyuan\n",
      "Processing Data: 49 city name: egvekinot\n",
      "Processing Data: 50 city name: kasempa\n",
      "Processing Data: 51 city name: new norfolk\n",
      "Processing Data: 52 city name: yar-sale\n",
      "Processing Data: 53 city name: yangambi\n",
      "City \"canitas\" not found\n",
      "Processing Data: 55 city name: pisco\n",
      "Processing Data: 56 city name: mehamn\n",
      "Processing Data: 57 city name: dmitriyevka\n",
      "Processing Data: 58 city name: beringovskiy\n",
      "Processing Data: 59 city name: tasiilaq\n",
      "Processing Data: 60 city name: leningradskiy\n",
      "City \"salistea\" not found\n",
      "City \"taolanaro\" not found\n",
      "Processing Data: 63 city name: saquena\n",
      "Processing Data: 64 city name: rio grande\n",
      "Processing Data: 65 city name: eyl\n",
      "Processing Data: 66 city name: barrow\n",
      "Processing Data: 67 city name: port augusta\n",
      "Processing Data: 68 city name: albany\n",
      "Processing Data: 69 city name: iqaluit\n",
      "Processing Data: 70 city name: thompson\n",
      "Processing Data: 71 city name: malaryta\n",
      "Processing Data: 72 city name: east london\n",
      "Processing Data: 73 city name: port lincoln\n",
      "Processing Data: 74 city name: praia da vitoria\n",
      "Processing Data: 75 city name: omboue\n",
      "Processing Data: 76 city name: port alfred\n",
      "Processing Data: 77 city name: chokurdakh\n",
      "Processing Data: 78 city name: oeiras do para\n",
      "Processing Data: 79 city name: dingle\n",
      "Processing Data: 80 city name: kahului\n",
      "Processing Data: 81 city name: kapaa\n",
      "Processing Data: 82 city name: si bun ruang\n",
      "Processing Data: 83 city name: pangnirtung\n",
      "Processing Data: 84 city name: tabou\n",
      "Processing Data: 85 city name: luderitz\n",
      "Processing Data: 86 city name: itapirapua\n",
      "Processing Data: 87 city name: roald\n",
      "Processing Data: 88 city name: esperance\n",
      "Processing Data: 89 city name: lakota\n",
      "Processing Data: 90 city name: luanda\n",
      "Processing Data: 91 city name: ancud\n",
      "Processing Data: 92 city name: kargasok\n",
      "Processing Data: 93 city name: punta arenas\n",
      "Processing Data: 94 city name: nikolskoye\n",
      "Processing Data: 95 city name: geraldton\n",
      "Processing Data: 96 city name: turukhansk\n",
      "Processing Data: 97 city name: acapulco\n",
      "Processing Data: 98 city name: butaritari\n",
      "Processing Data: 99 city name: susner\n",
      "Processing Data: 100 city name: hasaki\n",
      "Processing Data: 101 city name: kota bahru\n",
      "Processing Data: 102 city name: padang\n",
      "Processing Data: 103 city name: gisborne\n",
      "Processing Data: 104 city name: kholm\n",
      "Processing Data: 105 city name: el zapote\n",
      "Processing Data: 106 city name: ixtapa\n",
      "Processing Data: 107 city name: zhezkazgan\n",
      "Processing Data: 108 city name: lavrentiya\n",
      "Processing Data: 109 city name: san carlos\n",
      "Processing Data: 110 city name: goderich\n",
      "Processing Data: 111 city name: grootfontein\n",
      "Processing Data: 112 city name: lebu\n",
      "Processing Data: 113 city name: tommot\n",
      "Processing Data: 114 city name: pevek\n",
      "Processing Data: 115 city name: puerto ayora\n",
      "Processing Data: 116 city name: banda aceh\n",
      "Processing Data: 117 city name: bonavista\n",
      "Processing Data: 118 city name: san cristobal\n",
      "Processing Data: 119 city name: namibe\n",
      "Processing Data: 120 city name: avarua\n",
      "Processing Data: 121 city name: saskylakh\n",
      "Processing Data: 122 city name: butembo\n",
      "Processing Data: 123 city name: dikson\n",
      "Processing Data: 124 city name: conceicao do mato dentro\n",
      "Processing Data: 125 city name: noumea\n",
      "Processing Data: 126 city name: natal\n",
      "Processing Data: 127 city name: dalby\n",
      "City \"uwayl\" not found\n",
      "City \"amderma\" not found\n",
      "Processing Data: 130 city name: qaanaaq\n",
      "Processing Data: 131 city name: wawa\n",
      "Processing Data: 132 city name: saint-joseph\n",
      "Processing Data: 133 city name: nampula\n",
      "Processing Data: 134 city name: isangel\n",
      "City \"louisbourg\" not found\n",
      "Processing Data: 136 city name: bambous virieux\n",
      "Processing Data: 137 city name: port blair\n",
      "Processing Data: 138 city name: sao joao da barra\n",
      "Processing Data: 139 city name: ahipara\n",
      "Processing Data: 140 city name: ust-koksa\n",
      "Processing Data: 141 city name: abha\n",
      "Processing Data: 142 city name: malakal\n",
      "City \"yuzhno-yeniseyskiy\" not found\n",
      "Processing Data: 144 city name: severo-kurilsk\n",
      "Processing Data: 145 city name: cherskiy\n",
      "Processing Data: 146 city name: sao filipe\n",
      "Processing Data: 147 city name: tiksi\n",
      "City \"samusu\" not found\n",
      "Processing Data: 149 city name: souillac\n",
      "City \"quetzaltepec\" not found\n",
      "Processing Data: 151 city name: vardo\n",
      "Processing Data: 152 city name: katsuura\n",
      "Processing Data: 153 city name: alekseyevka\n",
      "City \"illoqqortoormiut\" not found\n",
      "Processing Data: 155 city name: hobart\n",
      "Processing Data: 156 city name: fortuna\n",
      "Processing Data: 157 city name: georgetown\n",
      "Processing Data: 158 city name: saldanha\n",
      "Processing Data: 159 city name: nianzishan\n",
      "Processing Data: 160 city name: xai-xai\n",
      "Processing Data: 161 city name: margate\n",
      "Processing Data: 162 city name: mmathubudukwane\n",
      "Processing Data: 163 city name: devonport\n",
      "Processing Data: 164 city name: besikduzu\n",
      "Processing Data: 165 city name: bure\n",
      "City \"kadykchan\" not found\n",
      "Processing Data: 167 city name: mujiayingzi\n",
      "Processing Data: 168 city name: port elizabeth\n",
      "Processing Data: 169 city name: maceio\n",
      "Processing Data: 170 city name: willowmore\n",
      "Processing Data: 171 city name: zhigansk\n",
      "Processing Data: 172 city name: charters towers\n",
      "Processing Data: 173 city name: tura\n",
      "Processing Data: 174 city name: san lawrenz\n",
      "City \"tsihombe\" not found\n",
      "City \"nizhneyansk\" not found\n",
      "Processing Data: 177 city name: bud\n",
      "City \"mys shmidta\" not found\n",
      "Processing Data: 179 city name: hwange\n",
      "Processing Data: 180 city name: lucea\n",
      "Processing Data: 181 city name: sinor\n",
      "City \"barbar\" not found\n",
      "City \"saleaula\" not found\n",
      "Processing Data: 184 city name: zyryanka\n",
      "Processing Data: 185 city name: agadez\n",
      "Processing Data: 186 city name: kirakira\n",
      "Processing Data: 187 city name: brenham\n",
      "Processing Data: 188 city name: bozhou\n",
      "Processing Data: 189 city name: clyde river\n",
      "Processing Data: 190 city name: evora\n",
      "Processing Data: 191 city name: vila franca do campo\n",
      "City \"kuttanallur\" not found\n",
      "Processing Data: 193 city name: muisne\n",
      "Processing Data: 194 city name: hilo\n",
      "Processing Data: 195 city name: tuatapere\n",
      "Processing Data: 196 city name: wanaka\n",
      "Processing Data: 197 city name: aklavik\n",
      "Processing Data: 198 city name: bredy\n",
      "Processing Data: 199 city name: saint-francois\n",
      "City \"umm ruwabah\" not found\n",
      "City \"fort saint john\" not found\n",
      "Processing Data: 202 city name: aguimes\n",
      "City \"sinkat\" not found\n",
      "Processing Data: 204 city name: chuy\n",
      "Processing Data: 205 city name: kudahuvadhoo\n",
      "Processing Data: 206 city name: kapuskasing\n",
      "Processing Data: 207 city name: villa constitucion\n"
     ]
    },
    {
     "name": "stdout",
     "output_type": "stream",
     "text": [
      "City \"lolua\" not found\n",
      "Processing Data: 209 city name: lady frere\n",
      "Processing Data: 210 city name: touros\n",
      "Processing Data: 211 city name: sitka\n",
      "City \"labutta\" not found\n",
      "Processing Data: 213 city name: ilo\n",
      "Processing Data: 214 city name: cabo rojo\n",
      "Processing Data: 215 city name: hervey bay\n",
      "Processing Data: 216 city name: dambulla\n",
      "Processing Data: 217 city name: poum\n",
      "Processing Data: 218 city name: neiafu\n",
      "City \"kazalinsk\" not found\n",
      "Processing Data: 220 city name: lompoc\n",
      "Processing Data: 221 city name: partizansk\n",
      "City \"utiroa\" not found\n",
      "Processing Data: 223 city name: provideniya\n",
      "City \"burica\" not found\n",
      "Processing Data: 225 city name: bethel\n",
      "Processing Data: 226 city name: coshocton\n",
      "Processing Data: 227 city name: mogapi\n",
      "Processing Data: 228 city name: kuliyapitiya\n",
      "Processing Data: 229 city name: garowe\n",
      "Processing Data: 230 city name: airai\n",
      "Processing Data: 231 city name: glendive\n",
      "City \"monatele\" not found\n",
      "Processing Data: 233 city name: yulara\n",
      "Processing Data: 234 city name: tosya\n",
      "Processing Data: 235 city name: urbano santos\n",
      "City \"umm durman\" not found\n",
      "City \"marcona\" not found\n",
      "City \"grand river south east\" not found\n",
      "Processing Data: 239 city name: rio gallegos\n",
      "Processing Data: 240 city name: buala\n",
      "Processing Data: 241 city name: iwaki\n",
      "City \"doctor pedro p. pena\" not found\n",
      "Processing Data: 243 city name: kenora\n",
      "Processing Data: 244 city name: santa ana\n",
      "Processing Data: 245 city name: saint joseph\n",
      "Processing Data: 246 city name: alghero\n",
      "Processing Data: 247 city name: tyrma\n",
      "Processing Data: 248 city name: amapa\n",
      "Processing Data: 249 city name: gogrial\n",
      "Processing Data: 250 city name: umm lajj\n",
      "Processing Data: 251 city name: leshukonskoye\n",
      "Processing Data: 252 city name: san juan del sur\n",
      "Processing Data: 253 city name: kruisfontein\n",
      "Processing Data: 254 city name: mayo\n",
      "Processing Data: 255 city name: kilindoni\n",
      "City \"attawapiskat\" not found\n",
      "Processing Data: 257 city name: homer\n",
      "Processing Data: 258 city name: hope mills\n",
      "Processing Data: 259 city name: road town\n",
      "Processing Data: 260 city name: caravelas\n",
      "Processing Data: 261 city name: dong hoi\n",
      "Processing Data: 262 city name: lata\n",
      "Processing Data: 263 city name: bafoulabe\n",
      "Processing Data: 264 city name: coquimbo\n",
      "Processing Data: 265 city name: zalantun\n",
      "Processing Data: 266 city name: kirov\n",
      "Processing Data: 267 city name: miri\n",
      "Processing Data: 268 city name: okhotsk\n",
      "Processing Data: 269 city name: coahuayana\n",
      "Processing Data: 270 city name: guerrero negro\n",
      "Processing Data: 271 city name: kiruna\n",
      "Processing Data: 272 city name: santander jimenez\n",
      "Processing Data: 273 city name: morshansk\n",
      "Processing Data: 274 city name: loveland\n",
      "City \"tsentralnyy\" not found\n",
      "Processing Data: 276 city name: grindavik\n",
      "Processing Data: 277 city name: srednekolymsk\n",
      "Processing Data: 278 city name: ust-karsk\n",
      "Processing Data: 279 city name: pacific grove\n",
      "Processing Data: 280 city name: korla\n",
      "Processing Data: 281 city name: bengkulu\n",
      "City \"dianopolis\" not found\n",
      "Processing Data: 283 city name: petrokamenskoye\n",
      "Processing Data: 284 city name: taksimo\n",
      "Processing Data: 285 city name: leh\n",
      "Processing Data: 286 city name: hobyo\n",
      "Processing Data: 287 city name: poso\n",
      "Processing Data: 288 city name: saint-louis\n",
      "Processing Data: 289 city name: kuytun\n",
      "Processing Data: 290 city name: flinders\n",
      "City \"temaraia\" not found\n",
      "Processing Data: 292 city name: bathsheba\n",
      "Processing Data: 293 city name: maputo\n",
      "Processing Data: 294 city name: itoman\n",
      "Processing Data: 295 city name: chumikan\n",
      "Processing Data: 296 city name: manokwari\n",
      "Processing Data: 297 city name: husavik\n",
      "Processing Data: 298 city name: upernavik\n",
      "Processing Data: 299 city name: the valley\n",
      "Processing Data: 300 city name: anadyr\n",
      "Processing Data: 301 city name: bozova\n",
      "Processing Data: 302 city name: san carlos de bariloche\n",
      "Processing Data: 303 city name: moen\n",
      "Processing Data: 304 city name: dongsheng\n",
      "Processing Data: 305 city name: alofi\n",
      "Processing Data: 306 city name: puerto escondido\n",
      "Processing Data: 307 city name: siddipet\n",
      "Processing Data: 308 city name: oistins\n",
      "City \"mutsamudu\" not found\n",
      "Processing Data: 310 city name: faanui\n",
      "Processing Data: 311 city name: rocha\n",
      "Processing Data: 312 city name: santa helena de goias\n",
      "Processing Data: 313 city name: yaan\n",
      "City \"tumannyy\" not found\n",
      "Processing Data: 315 city name: tucupita\n",
      "Processing Data: 316 city name: lagoa\n",
      "Processing Data: 317 city name: evensk\n",
      "Processing Data: 318 city name: bandarbeyla\n",
      "Processing Data: 319 city name: hukuntsi\n",
      "Processing Data: 320 city name: tierralta\n",
      "Processing Data: 321 city name: high rock\n",
      "Processing Data: 322 city name: san patricio\n",
      "Processing Data: 323 city name: iskateley\n",
      "Processing Data: 324 city name: jumla\n",
      "Processing Data: 325 city name: riverton\n",
      "Processing Data: 326 city name: lazaro cardenas\n",
      "City \"zhitikara\" not found\n",
      "Processing Data: 328 city name: camacha\n",
      "Processing Data: 329 city name: vityazevo\n",
      "Processing Data: 330 city name: semirom\n",
      "City \"sentyabrskiy\" not found\n",
      "Processing Data: 332 city name: bougouni\n",
      "Processing Data: 333 city name: faya\n",
      "Processing Data: 334 city name: phan thiet\n",
      "Processing Data: 335 city name: norman wells\n",
      "Processing Data: 336 city name: talnakh\n",
      "Processing Data: 337 city name: labuhan\n",
      "Processing Data: 338 city name: opuwo\n",
      "Processing Data: 339 city name: carutapera\n",
      "Processing Data: 340 city name: port keats\n",
      "City \"sinjah\" not found\n",
      "Processing Data: 342 city name: sola\n",
      "Processing Data: 343 city name: upata\n",
      "Processing Data: 344 city name: marsh harbour\n",
      "Processing Data: 345 city name: korfez\n",
      "Processing Data: 346 city name: lokoja\n",
      "Processing Data: 347 city name: north myrtle beach\n",
      "Processing Data: 348 city name: baykit\n",
      "Processing Data: 349 city name: ilulissat\n",
      "Processing Data: 350 city name: kachiry\n",
      "Processing Data: 351 city name: tessalit\n",
      "Processing Data: 352 city name: saint anthony\n",
      "Processing Data: 353 city name: kriel\n",
      "Processing Data: 354 city name: hambantota\n",
      "Processing Data: 355 city name: anloga\n",
      "Processing Data: 356 city name: san quintin\n",
      "Processing Data: 357 city name: roverud\n",
      "City \"eskasem\" not found\n",
      "Processing Data: 359 city name: chake chake\n",
      "Processing Data: 360 city name: ritchie\n",
      "Processing Data: 361 city name: palmer\n",
      "Processing Data: 362 city name: malinovoye ozero\n",
      "Processing Data: 363 city name: westport\n",
      "Processing Data: 364 city name: gopalpur\n",
      "Processing Data: 365 city name: talcahuano\n",
      "Processing Data: 366 city name: hami\n",
      "Processing Data: 367 city name: berezniki\n",
      "Processing Data: 368 city name: te anau\n",
      "Processing Data: 369 city name: meulaboh\n",
      "Processing Data: 370 city name: necochea\n",
      "Processing Data: 371 city name: lugo\n",
      "Processing Data: 372 city name: babayurt\n",
      "Processing Data: 373 city name: khatanga\n",
      "Processing Data: 374 city name: tonj\n",
      "Processing Data: 375 city name: alice springs\n",
      "Processing Data: 376 city name: kaura namoda\n",
      "City \"umzimvubu\" not found\n",
      "Processing Data: 378 city name: pontes e lacerda\n",
      "Processing Data: 379 city name: fort nelson\n",
      "Processing Data: 380 city name: hamilton\n",
      "Processing Data: 381 city name: keti bandar\n",
      "Processing Data: 382 city name: beloha\n",
      "Processing Data: 383 city name: ostrovnoy\n",
      "Processing Data: 384 city name: wilmington\n",
      "Processing Data: 385 city name: victoria\n",
      "Processing Data: 386 city name: khartoum\n",
      "Processing Data: 387 city name: richards bay\n",
      "Processing Data: 388 city name: maykor\n",
      "Processing Data: 389 city name: ponta do sol\n",
      "Processing Data: 390 city name: mae hong son\n",
      "Processing Data: 391 city name: uglegorsk\n",
      "Processing Data: 392 city name: treinta y tres\n",
      "Processing Data: 393 city name: saint-pierre\n",
      "Processing Data: 394 city name: mogadishu\n",
      "Processing Data: 395 city name: aswan\n",
      "Processing Data: 396 city name: teguise\n",
      "Processing Data: 397 city name: turtas\n",
      "Processing Data: 398 city name: vengerovo\n",
      "Processing Data: 399 city name: olafsvik\n",
      "Processing Data: 400 city name: paita\n",
      "Processing Data: 401 city name: nome\n",
      "Processing Data: 402 city name: comodoro rivadavia\n",
      "Processing Data: 403 city name: yatou\n",
      "Processing Data: 404 city name: petrovsk-zabaykalskiy\n",
      "Processing Data: 405 city name: katete\n",
      "Processing Data: 406 city name: viseu\n",
      "Processing Data: 407 city name: namatanai\n",
      "Processing Data: 408 city name: emerald\n",
      "Processing Data: 409 city name: asau\n",
      "Processing Data: 410 city name: jibuti\n",
      "Processing Data: 411 city name: shimoda\n",
      "Processing Data: 412 city name: valparaiso\n"
     ]
    },
    {
     "name": "stdout",
     "output_type": "stream",
     "text": [
      "Processing Data: 413 city name: fare\n",
      "Processing Data: 414 city name: veracruz\n",
      "Processing Data: 415 city name: marfino\n",
      "Processing Data: 416 city name: palana\n",
      "Processing Data: 417 city name: traralgon\n",
      "Processing Data: 418 city name: kaitangata\n",
      "Processing Data: 419 city name: luis correia\n",
      "Processing Data: 420 city name: codrington\n",
      "City \"ahumada\" not found\n",
      "City \"jiddah\" not found\n",
      "City \"gurskoye\" not found\n",
      "Processing Data: 424 city name: dunmore town\n",
      "Processing Data: 425 city name: fukue\n",
      "Processing Data: 426 city name: mar del plata\n",
      "Processing Data: 427 city name: sigli\n",
      "Processing Data: 428 city name: tatarsk\n",
      "Processing Data: 429 city name: dunedin\n",
      "Processing Data: 430 city name: munteni buzau\n",
      "Processing Data: 431 city name: sur\n",
      "Processing Data: 432 city name: surab\n",
      "Processing Data: 433 city name: half moon bay\n",
      "Processing Data: 434 city name: presidencia roque saenz pena\n",
      "Processing Data: 435 city name: corinto\n",
      "Processing Data: 436 city name: stolin\n",
      "Processing Data: 437 city name: mountain home\n",
      "Processing Data: 438 city name: rawlins\n",
      "Processing Data: 439 city name: ayan\n",
      "Processing Data: 440 city name: kavaratti\n",
      "Processing Data: 441 city name: mareeba\n",
      "Processing Data: 442 city name: cabo san lucas\n",
      "Processing Data: 443 city name: pokrovsk\n",
      "Processing Data: 444 city name: krasnoarmeysk\n",
      "Processing Data: 445 city name: totness\n",
      "City \"mocambique\" not found\n",
      "Processing Data: 447 city name: ocean city\n",
      "Processing Data: 448 city name: quatre cocos\n",
      "Processing Data: 449 city name: tabas\n",
      "Processing Data: 450 city name: longyearbyen\n",
      "Processing Data: 451 city name: porto novo\n",
      "Processing Data: 452 city name: gazanjyk\n",
      "City \"chagda\" not found\n",
      "Processing Data: 454 city name: atar\n",
      "Processing Data: 455 city name: oban\n",
      "Processing Data: 456 city name: muros\n",
      "Processing Data: 457 city name: canete\n",
      "Processing Data: 458 city name: morehead\n",
      "Processing Data: 459 city name: ponta delgada\n",
      "Processing Data: 460 city name: camargo\n",
      "City \"kamenskoye\" not found\n",
      "Processing Data: 462 city name: sakakah\n",
      "Processing Data: 463 city name: umea\n",
      "Processing Data: 464 city name: cockburn town\n",
      "Processing Data: 465 city name: arys\n",
      "Processing Data: 466 city name: carepa\n",
      "Processing Data: 467 city name: deming\n",
      "Processing Data: 468 city name: rawson\n",
      "Processing Data: 469 city name: myre\n",
      "Processing Data: 470 city name: klaksvik\n",
      "Processing Data: 471 city name: aquiraz\n",
      "Processing Data: 472 city name: axim\n",
      "Processing Data: 473 city name: marzuq\n",
      "Processing Data: 474 city name: sijunjung\n",
      "Processing Data: 475 city name: flin flon\n",
      "Processing Data: 476 city name: lebork\n",
      "Processing Data: 477 city name: peace river\n",
      "Processing Data: 478 city name: la ronge\n",
      "Processing Data: 479 city name: yerbogachen\n",
      "Processing Data: 480 city name: ribeira grande\n",
      "Processing Data: 481 city name: gobabis\n",
      "Processing Data: 482 city name: millinocket\n",
      "Processing Data: 483 city name: bissau\n",
      "City \"buariki\" not found\n",
      "Processing Data: 485 city name: port hardy\n",
      "Processing Data: 486 city name: kurchum\n",
      "Processing Data: 487 city name: kambove\n",
      "Processing Data: 488 city name: san rafael\n",
      "Processing Data: 489 city name: san policarpo\n",
      "Processing Data: 490 city name: sechura\n",
      "Processing Data: 491 city name: soyo\n",
      "Processing Data: 492 city name: zhangjiakou\n",
      "Processing Data: 493 city name: hofn\n",
      "Processing Data: 494 city name: valday\n",
      "Processing Data: 495 city name: jinotega\n",
      "Processing Data: 496 city name: port hedland\n",
      "Processing Data: 497 city name: torbay\n",
      "Processing Data: 498 city name: ternate\n",
      "Processing Data: 499 city name: bahia honda\n",
      "Processing Data: 500 city name: honningsvag\n",
      "Processing Data: 501 city name: aksay\n",
      "Processing Data: 502 city name: bagdarin\n",
      "Processing Data: 503 city name: maneadero\n",
      "Processing Data: 504 city name: loreto\n",
      "Processing Data: 505 city name: olinda\n",
      "Processing Data: 506 city name: mount gambier\n",
      "Processing Data: 507 city name: weeze\n",
      "Processing Data: 508 city name: vargashi\n",
      "Processing Data: 509 city name: taoudenni\n",
      "Processing Data: 510 city name: agirish\n",
      "Processing Data: 511 city name: vao\n",
      "Processing Data: 512 city name: nieuw amsterdam\n",
      "City \"grand centre\" not found\n",
      "Processing Data: 514 city name: nhamunda\n",
      "Processing Data: 515 city name: karratha\n",
      "City \"bansda\" not found\n",
      "Processing Data: 517 city name: saint-leu\n",
      "Processing Data: 518 city name: inirida\n",
      "Processing Data: 519 city name: sistranda\n",
      "Processing Data: 520 city name: san juan\n",
      "Processing Data: 521 city name: aras\n",
      "Processing Data: 522 city name: emba\n",
      "Processing Data: 523 city name: plouzane\n",
      "Processing Data: 524 city name: iaciara\n",
      "Processing Data: 525 city name: arinos\n",
      "Processing Data: 526 city name: hede\n",
      "Processing Data: 527 city name: tsogni\n",
      "Processing Data: 528 city name: otavi\n",
      "Processing Data: 529 city name: sakata\n",
      "Processing Data: 530 city name: hoopstad\n",
      "Processing Data: 531 city name: shingu\n",
      "Processing Data: 532 city name: sassandra\n",
      "Processing Data: 533 city name: ahuimanu\n",
      "Processing Data: 534 city name: rome\n",
      "Processing Data: 535 city name: synya\n",
      "Processing Data: 536 city name: shache\n",
      "Processing Data: 537 city name: whitehorse\n",
      "Processing Data: 538 city name: gremyachinsk\n",
      "Processing Data: 539 city name: kloulklubed\n",
      "Processing Data: 540 city name: bongandanga\n",
      "Processing Data: 541 city name: teknaf\n",
      "Processing Data: 542 city name: belaya gora\n",
      "Processing Data: 543 city name: surin\n",
      "Processing Data: 544 city name: pindiga\n",
      "Processing Data: 545 city name: falam\n",
      "Processing Data: 546 city name: araouane\n",
      "Processing Data: 547 city name: paragominas\n",
      "Processing Data: 548 city name: tahta\n",
      "Processing Data: 549 city name: isla vista\n",
      "Processing Data: 550 city name: mizdah\n",
      "Processing Data: 551 city name: ashtian\n",
      "Processing Data: 552 city name: magadan\n",
      "Processing Data: 553 city name: dalian\n",
      "Processing Data: 554 city name: susehri\n",
      "Processing Data: 555 city name: sakaiminato\n",
      "City \"sumbawa\" not found\n",
      "Processing Data: 557 city name: cartagena\n",
      "Processing Data: 558 city name: lexington\n",
      "Processing Data: 559 city name: krasnovishersk\n",
      "Processing Data: 560 city name: rolante\n",
      "Processing Data: 561 city name: qasigiannguit\n",
      "Processing Data: 562 city name: rzhev\n",
      "Processing Data: 563 city name: rafaela\n",
      "Processing Data: 564 city name: adrar\n",
      "City \"karamken\" not found\n",
      "Processing Data: 566 city name: lavumisa\n",
      "Processing Data: 567 city name: churapcha\n",
      "City \"dzhusaly\" not found\n",
      "Processing Data: 569 city name: verkhnevilyuysk\n",
      "Processing Data: 570 city name: petropavlovsk-kamchatskiy\n",
      "Processing Data: 571 city name: vila velha\n",
      "Processing Data: 572 city name: milkovo\n",
      "Processing Data: 573 city name: sainte-anne-des-monts\n",
      "City \"bababe\" not found\n",
      "Processing Data: 575 city name: mount isa\n",
      "Processing Data: 576 city name: kimberley\n",
      "Processing Data: 577 city name: mosquera\n",
      "Processing Data: 578 city name: calvinia\n",
      "Processing Data: 579 city name: kaifeng\n",
      "Processing Data: 580 city name: victoria point\n",
      "Processing Data: 581 city name: innisfail\n",
      "City \"nguiu\" not found\n",
      "Processing Data: 583 city name: moranbah\n",
      "Processing Data: 584 city name: sawtell\n",
      "Processing Data: 585 city name: grand gaube\n",
      "Processing Data: 586 city name: discovery bay\n",
      "Processing Data: 587 city name: placerville\n",
      "Processing Data: 588 city name: ocara\n",
      "Processing Data: 589 city name: aldan\n",
      "Processing Data: 590 city name: sandakan\n",
      "Processing Data: 591 city name: bon air\n",
      "Processing Data: 592 city name: zapolyarnyy\n",
      "Processing Data: 593 city name: fiche\n",
      "-----------------------------\n",
      "Done\n"
     ]
    }
   ],
   "source": [
    "#Create lists to loopp through and store the data, you need: city, country, latitutde and longitiude, max_temp, humidity, cloudiness, wind speed, time and date\n",
    "cities_all = []\n",
    "lat = []\n",
    "lng =[]\n",
    "country = []\n",
    "max_temp =[]\n",
    "humidity =[]\n",
    "cloudiness = []\n",
    "wind =[]\n",
    "date = []\n",
    "\n",
    "#set index to 1:\n",
    "index = 1\n",
    "\n",
    "#loop through the url to find each parameter^, add it to the above lists, use: \n",
    "for index, city in enumerate(cities):\n",
    "    \n",
    "#provide url with parameters:\n",
    "    url = (f\"https://api.openweathermap.org/data/2.5/weather?q={city}&units=metric&appid={weather_api_key}\")\n",
    "    \n",
    "    response = requests.get(url).json()\n",
    "  \n",
    "#try ---> except in case the data was not found:\n",
    "    try:\n",
    "        cities_all.append(response['name'])\n",
    "        lat.append(response['coord']['lat'])\n",
    "        lng.append(response['coord']['lon'])\n",
    "        country.append(response['sys']['country'])\n",
    "        max_temp.append(response['main']['temp_max'])\n",
    "        humidity.append(response['main']['humidity'])\n",
    "        cloudiness.append(response['clouds']['all'])\n",
    "        wind.append(response['wind']['speed'])\n",
    "        date.append(response['dt'])\n",
    "        \n",
    "        print(f'Processing Data: {index} city name: {city}')\n",
    "        index = index + 1\n",
    "   \n",
    "    except:\n",
    "        print(f'City \"{city}\" not found')\n",
    "        pass\n",
    "\n",
    "print('-----------------------------') \n",
    "print('Done')"
   ]
  },
  {
   "cell_type": "markdown",
   "metadata": {},
   "source": [
    "### Convert Raw Data to DataFrame\n",
    "* Export the city data into a .csv.\n",
    "* Display the DataFrame"
   ]
  },
  {
   "cell_type": "code",
   "execution_count": 8,
   "metadata": {},
   "outputs": [
    {
     "ename": "AttributeError",
     "evalue": "Can only use .dt accessor with datetimelike values",
     "output_type": "error",
     "traceback": [
      "\u001b[0;31m---------------------------------------------------------------------------\u001b[0m",
      "\u001b[0;31mAttributeError\u001b[0m                            Traceback (most recent call last)",
      "\u001b[0;32m/var/folders/c1/_wjd1nqx03q7043fsjpcgjd80000gn/T/ipykernel_52619/3914709181.py\u001b[0m in \u001b[0;36m<module>\u001b[0;34m\u001b[0m\n\u001b[1;32m     14\u001b[0m \u001b[0;34m\u001b[0m\u001b[0m\n\u001b[1;32m     15\u001b[0m \u001b[0;34m\u001b[0m\u001b[0m\n\u001b[0;32m---> 16\u001b[0;31m \u001b[0mweather_df\u001b[0m\u001b[0;34m[\u001b[0m\u001b[0;34m'Date'\u001b[0m\u001b[0;34m]\u001b[0m\u001b[0;34m.\u001b[0m\u001b[0mdt\u001b[0m\u001b[0;34m.\u001b[0m\u001b[0mdate\u001b[0m\u001b[0;34m\u001b[0m\u001b[0;34m\u001b[0m\u001b[0m\n\u001b[0m\u001b[1;32m     17\u001b[0m \u001b[0;34m\u001b[0m\u001b[0m\n\u001b[1;32m     18\u001b[0m \u001b[0;31m#Save DataFRame as csv\u001b[0m\u001b[0;34m\u001b[0m\u001b[0;34m\u001b[0m\u001b[0m\n",
      "\u001b[0;32m~/opt/anaconda3/lib/python3.9/site-packages/pandas/core/generic.py\u001b[0m in \u001b[0;36m__getattr__\u001b[0;34m(self, name)\u001b[0m\n\u001b[1;32m   5485\u001b[0m         ):\n\u001b[1;32m   5486\u001b[0m             \u001b[0;32mreturn\u001b[0m \u001b[0mself\u001b[0m\u001b[0;34m[\u001b[0m\u001b[0mname\u001b[0m\u001b[0;34m]\u001b[0m\u001b[0;34m\u001b[0m\u001b[0;34m\u001b[0m\u001b[0m\n\u001b[0;32m-> 5487\u001b[0;31m         \u001b[0;32mreturn\u001b[0m \u001b[0mobject\u001b[0m\u001b[0;34m.\u001b[0m\u001b[0m__getattribute__\u001b[0m\u001b[0;34m(\u001b[0m\u001b[0mself\u001b[0m\u001b[0;34m,\u001b[0m \u001b[0mname\u001b[0m\u001b[0;34m)\u001b[0m\u001b[0;34m\u001b[0m\u001b[0;34m\u001b[0m\u001b[0m\n\u001b[0m\u001b[1;32m   5488\u001b[0m \u001b[0;34m\u001b[0m\u001b[0m\n\u001b[1;32m   5489\u001b[0m     \u001b[0;32mdef\u001b[0m \u001b[0m__setattr__\u001b[0m\u001b[0;34m(\u001b[0m\u001b[0mself\u001b[0m\u001b[0;34m,\u001b[0m \u001b[0mname\u001b[0m\u001b[0;34m:\u001b[0m \u001b[0mstr\u001b[0m\u001b[0;34m,\u001b[0m \u001b[0mvalue\u001b[0m\u001b[0;34m)\u001b[0m \u001b[0;34m->\u001b[0m \u001b[0;32mNone\u001b[0m\u001b[0;34m:\u001b[0m\u001b[0;34m\u001b[0m\u001b[0;34m\u001b[0m\u001b[0m\n",
      "\u001b[0;32m~/opt/anaconda3/lib/python3.9/site-packages/pandas/core/accessor.py\u001b[0m in \u001b[0;36m__get__\u001b[0;34m(self, obj, cls)\u001b[0m\n\u001b[1;32m    179\u001b[0m             \u001b[0;31m# we're accessing the attribute of the class, i.e., Dataset.geo\u001b[0m\u001b[0;34m\u001b[0m\u001b[0;34m\u001b[0m\u001b[0m\n\u001b[1;32m    180\u001b[0m             \u001b[0;32mreturn\u001b[0m \u001b[0mself\u001b[0m\u001b[0;34m.\u001b[0m\u001b[0m_accessor\u001b[0m\u001b[0;34m\u001b[0m\u001b[0;34m\u001b[0m\u001b[0m\n\u001b[0;32m--> 181\u001b[0;31m         \u001b[0maccessor_obj\u001b[0m \u001b[0;34m=\u001b[0m \u001b[0mself\u001b[0m\u001b[0;34m.\u001b[0m\u001b[0m_accessor\u001b[0m\u001b[0;34m(\u001b[0m\u001b[0mobj\u001b[0m\u001b[0;34m)\u001b[0m\u001b[0;34m\u001b[0m\u001b[0;34m\u001b[0m\u001b[0m\n\u001b[0m\u001b[1;32m    182\u001b[0m         \u001b[0;31m# Replace the property with the accessor object. Inspired by:\u001b[0m\u001b[0;34m\u001b[0m\u001b[0;34m\u001b[0m\u001b[0m\n\u001b[1;32m    183\u001b[0m         \u001b[0;31m# https://www.pydanny.com/cached-property.html\u001b[0m\u001b[0;34m\u001b[0m\u001b[0;34m\u001b[0m\u001b[0m\n",
      "\u001b[0;32m~/opt/anaconda3/lib/python3.9/site-packages/pandas/core/indexes/accessors.py\u001b[0m in \u001b[0;36m__new__\u001b[0;34m(cls, data)\u001b[0m\n\u001b[1;32m    504\u001b[0m             \u001b[0;32mreturn\u001b[0m \u001b[0mPeriodProperties\u001b[0m\u001b[0;34m(\u001b[0m\u001b[0mdata\u001b[0m\u001b[0;34m,\u001b[0m \u001b[0morig\u001b[0m\u001b[0;34m)\u001b[0m\u001b[0;34m\u001b[0m\u001b[0;34m\u001b[0m\u001b[0m\n\u001b[1;32m    505\u001b[0m \u001b[0;34m\u001b[0m\u001b[0m\n\u001b[0;32m--> 506\u001b[0;31m         \u001b[0;32mraise\u001b[0m \u001b[0mAttributeError\u001b[0m\u001b[0;34m(\u001b[0m\u001b[0;34m\"Can only use .dt accessor with datetimelike values\"\u001b[0m\u001b[0;34m)\u001b[0m\u001b[0;34m\u001b[0m\u001b[0;34m\u001b[0m\u001b[0m\n\u001b[0m",
      "\u001b[0;31mAttributeError\u001b[0m: Can only use .dt accessor with datetimelike values"
     ]
    }
   ],
   "source": [
    "#Convert the raw data retrived from url to DataFrame\n",
    "weather_df = pd.DataFrame({\n",
    "    \"City\" : cities_all,\n",
    "    \"Latitude\" : lat,\n",
    "    \"Longitutde\" : lng,\n",
    "    \"Country\" : country,\n",
    "    \"Max Temp\" : max_temp,\n",
    "    \"Humidity\" : humidity,\n",
    "    \"Cloudiness\" : cloudiness,\n",
    "    \"Wind Speed\" : wind,\n",
    "    \"Date\" : date\n",
    "})\n",
    "#convert the timestamp to date:\n",
    "\n",
    "\n",
    "weather_df['Date'].dt.date\n",
    "\n",
    "#Save DataFRame as csv\n",
    "weather_df.to_csv(\"../weather.csv\", index=False, header=True)\n",
    "weather_df.head()"
   ]
  },
  {
   "cell_type": "markdown",
   "metadata": {},
   "source": [
    "## Inspect the data and remove the cities where the humidity > 100%.\n",
    "----\n",
    "Skip this step if there are no cities that have humidity > 100%. "
   ]
  },
  {
   "cell_type": "code",
   "execution_count": 9,
   "metadata": {},
   "outputs": [
    {
     "name": "stdout",
     "output_type": "stream",
     "text": [
      "536\n",
      "536\n"
     ]
    }
   ],
   "source": [
    "humidity_removed_df = weather_df[weather_df[\"Humidity\"]<= 100]\n",
    "humidity_removed_df.head\n",
    "#check if the DataFrame was reduced:\n",
    "print(len(humidity_removed_df))\n",
    "print(len(weather_df))\n"
   ]
  },
  {
   "cell_type": "code",
   "execution_count": 10,
   "metadata": {},
   "outputs": [
    {
     "name": "stdout",
     "output_type": "stream",
     "text": [
      " There are 0 outliers with humidity over 100%\n"
     ]
    }
   ],
   "source": [
    "#  Get the indices of cities that have humidity over 100%.\n",
    "humidity_over100_df = weather_df[weather_df[\"Humidity\"]> 100]\n",
    "numbers = len(humidity_over100_df)\n",
    "print(f\" There are {numbers} outliers with humidity over 100%\")"
   ]
  },
  {
   "cell_type": "markdown",
   "metadata": {},
   "source": [
    "## Plotting the Data\n",
    "* Use proper labeling of the plots using plot titles (including date of analysis) and axes labels.\n",
    "* Save the plotted figures as .pngs."
   ]
  },
  {
   "cell_type": "markdown",
   "metadata": {},
   "source": [
    "## Latitude vs. Temperature Plot"
   ]
  },
  {
   "cell_type": "code",
   "execution_count": 14,
   "metadata": {
    "scrolled": true
   },
   "outputs": [
    {
     "data": {
      "image/png": "[encoded data removed]",
      "text/plain": [
       "<Figure size 432x288 with 1 Axes>"
      ]
     },
     "metadata": {
      "needs_background": "light"
     },
     "output_type": "display_data"
    }
   ],
   "source": [
    "x = weather_df[\"Latitude\"]\n",
    "y = weather_df[\"Max Temp\"]\n",
    "plt.title(f\"City Latitude vs. Max Temperature \")\n",
    "plt.xlabel(\"Latitude\")\n",
    "plt.ylabel(\"Max Temperature (C)\")\n",
    "plt.scatter(x, y, marker = \"o\", facecolors = \"red\", edgecolors = \"black\")\n",
    "plt.savefig('../output_data/latitude_temp_plot.png')\n",
    "plt.show()\n",
    "\n"
   ]
  },
  {
   "cell_type": "markdown",
   "metadata": {},
   "source": [
    "## Latitude vs. Humidity Plot"
   ]
  },
  {
   "cell_type": "code",
   "execution_count": 16,
   "metadata": {},
   "outputs": [
    {
     "data": {
      "image/png": "[encoded data removed]",
      "text/plain": [
       "<Figure size 432x288 with 1 Axes>"
      ]
     },
     "metadata": {
      "needs_background": "light"
     },
     "output_type": "display_data"
    }
   ],
   "source": [
    "x = weather_df[\"Latitude\"]\n",
    "y = weather_df[\"Humidity\"]\n",
    "plt.title(f\"City Latitude vs. Humidity \")\n",
    "plt.xlabel(\"Latitude\")\n",
    "plt.ylabel(\"Humidity %\")\n",
    "plt.scatter(x, y, marker = \"o\", facecolors = \"lightgreen\", edgecolors = \"black\")\n",
    "plt.savefig('../output_data/Lat_Humidity_plot.png')\n",
    "plt.show()"
   ]
  },
  {
   "cell_type": "markdown",
   "metadata": {},
   "source": [
    "## Latitude vs. Cloudiness Plot"
   ]
  },
  {
   "cell_type": "code",
   "execution_count": 17,
   "metadata": {},
   "outputs": [
    {
     "data": {
      "image/png": "[encoded data removed]",
      "text/plain": [
       "<Figure size 432x288 with 1 Axes>"
      ]
     },
     "metadata": {
      "needs_background": "light"
     },
     "output_type": "display_data"
    }
   ],
   "source": [
    "x = weather_df[\"Latitude\"]\n",
    "y = weather_df[\"Cloudiness\"]\n",
    "plt.title(f\"City Latitude vs. Percetnage of Cloudiness \")\n",
    "plt.xlabel(\"Latitude\")\n",
    "plt.ylabel(\"Cloudiness %\")\n",
    "plt.scatter(x, y, marker = \"o\", facecolors = \"lightblue\", edgecolors = \"black\")\n",
    "plt.savefig('../output_data/latitude_Cloudiness_plot.png')\n",
    "plt.show()"
   ]
  },
  {
   "cell_type": "markdown",
   "metadata": {},
   "source": [
    "## Latitude vs. Wind Speed Plot"
   ]
  },
  {
   "cell_type": "code",
   "execution_count": 18,
   "metadata": {},
   "outputs": [
    {
     "data": {
      "image/png": "[encoded data removed]",
      "text/plain": [
       "<Figure size 432x288 with 1 Axes>"
      ]
     },
     "metadata": {
      "needs_background": "light"
     },
     "output_type": "display_data"
    }
   ],
   "source": [
    "x = weather_df[\"Latitude\"]\n",
    "y = weather_df[\"Wind Speed\"]\n",
    "plt.title(f\"City Latitude vs. Wind Speed \")\n",
    "plt.xlabel(\"Latitude\")\n",
    "plt.ylabel(\"Speed of Wind [m/s]\")\n",
    "plt.scatter(x, y, marker = \"o\", facecolors = \"grey\", edgecolors = \"black\")\n",
    "plt.savefig('../output_data/latitude_wind_plot.png')\n",
    "plt.show()"
   ]
  },
  {
   "cell_type": "markdown",
   "metadata": {},
   "source": [
    "## Linear Regression"
   ]
  },
  {
   "cell_type": "code",
   "execution_count": 2,
   "metadata": {},
   "outputs": [
    {
     "ename": "NameError",
     "evalue": "name 'weather_df' is not defined",
     "output_type": "error",
     "traceback": [
      "\u001b[0;31m---------------------------------------------------------------------------\u001b[0m",
      "\u001b[0;31mNameError\u001b[0m                                 Traceback (most recent call last)",
      "\u001b[0;32m/var/folders/c1/_wjd1nqx03q7043fsjpcgjd80000gn/T/ipykernel_52918/3965965687.py\u001b[0m in \u001b[0;36m<module>\u001b[0;34m\u001b[0m\n\u001b[1;32m      1\u001b[0m \u001b[0;31m#Define new dataframes for northern (latitude >0) and southern (latitude <0) hemispheres\u001b[0m\u001b[0;34m\u001b[0m\u001b[0;34m\u001b[0m\u001b[0m\n\u001b[0;32m----> 2\u001b[0;31m \u001b[0mnorth_hemi_df\u001b[0m \u001b[0;34m=\u001b[0m \u001b[0mweather_df\u001b[0m\u001b[0;34m.\u001b[0m\u001b[0mloc\u001b[0m\u001b[0;34m[\u001b[0m\u001b[0mweather_df\u001b[0m\u001b[0;34m[\u001b[0m\u001b[0;34m'Latitude'\u001b[0m\u001b[0;34m]\u001b[0m\u001b[0;34m>\u001b[0m\u001b[0;36m0\u001b[0m\u001b[0;34m,\u001b[0m \u001b[0;34m:\u001b[0m\u001b[0;34m]\u001b[0m\u001b[0;34m\u001b[0m\u001b[0;34m\u001b[0m\u001b[0m\n\u001b[0m\u001b[1;32m      3\u001b[0m \u001b[0;31m#north_hemi_df.head()\u001b[0m\u001b[0;34m\u001b[0m\u001b[0;34m\u001b[0m\u001b[0m\n\u001b[1;32m      4\u001b[0m \u001b[0;34m\u001b[0m\u001b[0m\n\u001b[1;32m      5\u001b[0m \u001b[0msouth_hemi_df\u001b[0m \u001b[0;34m=\u001b[0m  \u001b[0mweather_df\u001b[0m\u001b[0;34m.\u001b[0m\u001b[0mloc\u001b[0m\u001b[0;34m[\u001b[0m\u001b[0mweather_df\u001b[0m\u001b[0;34m[\u001b[0m\u001b[0;34m'Latitude'\u001b[0m\u001b[0;34m]\u001b[0m\u001b[0;34m<\u001b[0m\u001b[0;36m0\u001b[0m\u001b[0;34m,\u001b[0m \u001b[0;34m:\u001b[0m\u001b[0;34m]\u001b[0m\u001b[0;34m\u001b[0m\u001b[0;34m\u001b[0m\u001b[0m\n",
      "\u001b[0;31mNameError\u001b[0m: name 'weather_df' is not defined"
     ]
    }
   ],
   "source": [
    "#Define new dataframes for northern (latitude >0) and southern (latitude <0) hemispheres\n",
    "north_hemi_df = weather_df.loc[weather_df['Latitude']>0, :]\n",
    "#north_hemi_df.head()\n",
    "\n",
    "south_hemi_df =  weather_df.loc[weather_df['Latitude']<0, :]\n",
    "#south_hemi_df.head()"
   ]
  },
  {
   "cell_type": "markdown",
   "metadata": {},
   "source": [
    "####  Northern Hemisphere - Max Temp vs. Latitude Linear Regression"
   ]
  },
  {
   "cell_type": "code",
   "execution_count": 1,
   "metadata": {},
   "outputs": [
    {
     "ename": "NameError",
     "evalue": "name 'north_hemi_df' is not defined",
     "output_type": "error",
     "traceback": [
      "\u001b[0;31m---------------------------------------------------------------------------\u001b[0m",
      "\u001b[0;31mNameError\u001b[0m                                 Traceback (most recent call last)",
      "\u001b[0;32m/var/folders/c1/_wjd1nqx03q7043fsjpcgjd80000gn/T/ipykernel_52918/1540969172.py\u001b[0m in \u001b[0;36m<module>\u001b[0;34m\u001b[0m\n\u001b[0;32m----> 1\u001b[0;31m \u001b[0mx_value\u001b[0m \u001b[0;34m=\u001b[0m \u001b[0mnorth_hemi_df\u001b[0m\u001b[0;34m[\u001b[0m\u001b[0;34m'Latitude'\u001b[0m\u001b[0;34m]\u001b[0m\u001b[0;34m\u001b[0m\u001b[0;34m\u001b[0m\u001b[0m\n\u001b[0m\u001b[1;32m      2\u001b[0m \u001b[0my_value\u001b[0m \u001b[0;34m=\u001b[0m \u001b[0mnorth_hemi_df\u001b[0m\u001b[0;34m[\u001b[0m\u001b[0;34m'Max Temp'\u001b[0m\u001b[0;34m]\u001b[0m\u001b[0;34m\u001b[0m\u001b[0;34m\u001b[0m\u001b[0m\n\u001b[1;32m      3\u001b[0m \u001b[0;34m\u001b[0m\u001b[0m\n\u001b[1;32m      4\u001b[0m \u001b[0;31m##Correlation coefficient\u001b[0m\u001b[0;34m\u001b[0m\u001b[0;34m\u001b[0m\u001b[0m\n\u001b[1;32m      5\u001b[0m \u001b[0mcorr_coeff\u001b[0m \u001b[0;34m=\u001b[0m \u001b[0mst\u001b[0m\u001b[0;34m.\u001b[0m\u001b[0mpearsonr\u001b[0m\u001b[0;34m(\u001b[0m\u001b[0mx_value\u001b[0m\u001b[0;34m,\u001b[0m \u001b[0my_value\u001b[0m\u001b[0;34m)\u001b[0m\u001b[0;34m\u001b[0m\u001b[0;34m\u001b[0m\u001b[0m\n",
      "\u001b[0;31mNameError\u001b[0m: name 'north_hemi_df' is not defined"
     ]
    }
   ],
   "source": [
    "x_value = north_hemi_df['Latitude']\n",
    "y_value = north_hemi_df['Max Temp']\n",
    "\n",
    "##Correlation coefficient\n",
    "corr_coeff = st.pearsonr(x_value, y_value)\n",
    "\n",
    "(slope, intercept, rvalue, pvalue, stderr) = linregress(x_value, y_value)\n",
    "regress_values = x_value * slope + intercept\n",
    "reg_line_equation = \"y = \" + str(round(slope,2)) + \"x + \" + str(round(intercept,2))\n",
    "plt.scatter(x_value, y_value, marker=\"^\", color = \"red\", edgecolors = \"black\")\n",
    "plt.plot(x_value, regress_values,\"b\")\n",
    "plt.annotate(reg_line_equation,(21,36),fontsize = 12,color = \"blue\")\n",
    "plt.xlim(14, 26)\n",
    "plt.ylim(32, 48)\n",
    "plt.xlabel(\"Weight (g)\")\n",
    "plt.ylabel(\"Avarage Tumour Volume (mm3)\")\n",
    "\n",
    "print(f'The correlation between mice weight and average tumour volume is ~ {round(corr_coeff[0],2)}')\n",
    "print(f'The r-squared value is {rvalue**2}')"
   ]
  },
  {
   "cell_type": "markdown",
   "metadata": {},
   "source": [
    "####  Southern Hemisphere - Max Temp vs. Latitude Linear Regression"
   ]
  },
  {
   "cell_type": "code",
   "execution_count": null,
   "metadata": {},
   "outputs": [],
   "source": []
  },
  {
   "cell_type": "markdown",
   "metadata": {},
   "source": [
    "####  Northern Hemisphere - Humidity (%) vs. Latitude Linear Regression"
   ]
  },
  {
   "cell_type": "code",
   "execution_count": null,
   "metadata": {},
   "outputs": [],
   "source": []
  },
  {
   "cell_type": "markdown",
   "metadata": {},
   "source": [
    "####  Southern Hemisphere - Humidity (%) vs. Latitude Linear Regression"
   ]
  },
  {
   "cell_type": "code",
   "execution_count": null,
   "metadata": {},
   "outputs": [],
   "source": []
  },
  {
   "cell_type": "markdown",
   "metadata": {},
   "source": [
    "####  Northern Hemisphere - Cloudiness (%) vs. Latitude Linear Regression"
   ]
  },
  {
   "cell_type": "code",
   "execution_count": null,
   "metadata": {},
   "outputs": [],
   "source": []
  },
  {
   "cell_type": "markdown",
   "metadata": {},
   "source": [
    "####  Southern Hemisphere - Cloudiness (%) vs. Latitude Linear Regression"
   ]
  },
  {
   "cell_type": "code",
   "execution_count": null,
   "metadata": {},
   "outputs": [],
   "source": []
  },
  {
   "cell_type": "markdown",
   "metadata": {},
   "source": [
    "####  Northern Hemisphere - Wind Speed (mph) vs. Latitude Linear Regression"
   ]
  },
  {
   "cell_type": "code",
   "execution_count": null,
   "metadata": {},
   "outputs": [],
   "source": []
  },
  {
   "cell_type": "markdown",
   "metadata": {},
   "source": [
    "####  Southern Hemisphere - Wind Speed (mph) vs. Latitude Linear Regression"
   ]
  },
  {
   "cell_type": "code",
   "execution_count": null,
   "metadata": {},
   "outputs": [],
   "source": []
  },
  {
   "cell_type": "code",
   "execution_count": null,
   "metadata": {},
   "outputs": [],
   "source": []
  }
 ],
 "metadata": {
  "anaconda-cloud": {},
  "kernel_info": {
   "name": "python3"
  },
  "kernelspec": {
   "display_name": "Python 3 (ipykernel)",
   "language": "python",
   "name": "python3"
  },
  "language_info": {
   "codemirror_mode": {
    "name": "ipython",
    "version": 3
   },
   "file_extension": ".py",
   "mimetype": "text/x-python",
   "name": "python",
   "nbconvert_exporter": "python",
   "pygments_lexer": "ipython3",
   "version": "3.9.7"
  },
  "latex_envs": {
   "LaTeX_envs_menu_present": true,
   "autoclose": false,
   "autocomplete": true,
   "bibliofile": "biblio.bib",
   "cite_by": "apalike",
   "current_citInitial": 1,
   "eqLabelWithNumbers": true,
   "eqNumInitial": 1,
   "hotkeys": {
    "equation": "Ctrl-E",
    "itemize": "Ctrl-I"
   },
   "labels_anchors": false,
   "latex_user_defs": false,
   "report_style_numbering": false,
   "user_envs_cfg": false
  },
  "nteract": {
   "version": "0.12.3"
  }
 },
 "nbformat": 4,
 "nbformat_minor": 2
}
